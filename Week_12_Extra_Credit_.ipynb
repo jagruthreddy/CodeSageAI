{
  "nbformat": 4,
  "nbformat_minor": 0,
  "metadata": {
    "colab": {
      "provenance": [],
      "gpuType": "T4"
    },
    "kernelspec": {
      "name": "python3",
      "display_name": "Python 3"
    },
    "language_info": {
      "name": "python"
    },
    "accelerator": "GPU"
  },
  "cells": [
    {
      "cell_type": "markdown",
      "source": [
        "# Example of the Neural Network"
      ],
      "metadata": {
        "id": "jPf4EljrfB5L"
      }
    },
    {
      "cell_type": "code",
      "execution_count": null,
      "metadata": {
        "id": "H_74JAT5yqEO"
      },
      "outputs": [],
      "source": [
        "# Import required TensorFlow and Keras modules\n",
        "import tensorflow as tf\n",
        "from tensorflow.keras import layers, models\n",
        "from tensorflow.keras.datasets import mnist\n",
        "from tensorflow.keras.utils import to_categorical\n",
        "\n",
        "# Define a new CNN model with updated variable names\n",
        "from tensorflow.keras import Sequential\n",
        "from tensorflow.keras.layers import Conv2D, MaxPooling2D, Dropout, Flatten, Dense\n",
        "from sklearn.model_selection import train_test_split"
      ]
    },
    {
      "cell_type": "code",
      "source": [
        "# Load MNIST handwritten digits dataset\n",
        "(train_images, train_labels), (test_images, test_labels) = mnist.load_data()\n",
        "\n",
        "train_images, test_images = train_images.reshape(-1, 28, 28, 1) / 255.0, test_images.reshape(-1, 28, 28, 1) / 255.0\n",
        "train_images, test_images = train_images.astype(\"float32\"), test_images.astype(\"float32\")\n"
      ],
      "metadata": {
        "colab": {
          "base_uri": "https://localhost:8080/"
        },
        "id": "r13nKSaGZeYe",
        "outputId": "d7ddf7c3-fecf-4f9d-f7c8-204fd97bd2f0"
      },
      "execution_count": null,
      "outputs": [
        {
          "output_type": "stream",
          "name": "stdout",
          "text": [
            "Downloading data from https://storage.googleapis.com/tensorflow/tf-keras-datasets/mnist.npz\n",
            "\u001b[1m11490434/11490434\u001b[0m \u001b[32m━━━━━━━━━━━━━━━━━━━━\u001b[0m\u001b[37m\u001b[0m \u001b[1m0s\u001b[0m 0us/step\n"
          ]
        }
      ]
    },
    {
      "cell_type": "code",
      "source": [
        "# Convert class vectors to one-hot encoded format\n",
        "train_labels = to_categorical(train_labels)\n",
        "test_labels = to_categorical(test_labels)\n",
        "\n",
        "# Display dataset shapes and sample counts\n",
        "print(\"Training data shape:\", train_images.shape)\n",
        "print(\"Number of training samples:\", train_images.shape[0])\n",
        "print(\"Number of test samples:\", test_images.shape[0])"
      ],
      "metadata": {
        "colab": {
          "base_uri": "https://localhost:8080/"
        },
        "id": "xZTOVdqTZhWq",
        "outputId": "6f3adee9-32d6-4821-9f43-c13abb4e9776"
      },
      "execution_count": null,
      "outputs": [
        {
          "output_type": "stream",
          "name": "stdout",
          "text": [
            "Training data shape: (60000, 28, 28, 1)\n",
            "Number of training samples: 60000\n",
            "Number of test samples: 10000\n"
          ]
        }
      ]
    },
    {
      "cell_type": "code",
      "source": [
        "# Initialize the model\n",
        "cnn_model = Sequential()\n",
        "\n",
        "# First convolutional block\n",
        "cnn_model.add(Conv2D(32, (3, 3), activation='relu', input_shape=(28, 28, 1)))\n",
        "cnn_model.add(MaxPooling2D(pool_size=(2, 2)))\n",
        "cnn_model.add(Dropout(0.25))\n",
        "\n",
        "# Second convolutional block\n",
        "cnn_model.add(Conv2D(64, (3, 3), activation='relu'))\n",
        "cnn_model.add(MaxPooling2D(pool_size=(2, 2)))\n",
        "cnn_model.add(Dropout(0.25))\n",
        "\n",
        "# Dense (fully connected) layers\n",
        "cnn_model.add(Flatten())\n",
        "cnn_model.add(Dense(128, activation='relu'))\n",
        "cnn_model.add(Dropout(0.5))\n",
        "cnn_model.add(Dense(10, activation='softmax'))  # Output layer for classification\n",
        "\n",
        "\n",
        "cnn_model.compile(optimizer='adam', loss='categorical_crossentropy',\n",
        "              metrics=\n",
        "               ['accuracy'])"
      ],
      "metadata": {
        "colab": {
          "base_uri": "https://localhost:8080/"
        },
        "id": "GNUwJPE9Z8eC",
        "outputId": "3d33531a-134b-407f-f1df-cd96f2e2b834"
      },
      "execution_count": null,
      "outputs": [
        {
          "output_type": "stream",
          "name": "stderr",
          "text": [
            "/usr/local/lib/python3.11/dist-packages/keras/src/layers/convolutional/base_conv.py:107: UserWarning: Do not pass an `input_shape`/`input_dim` argument to a layer. When using Sequential models, prefer using an `Input(shape)` object as the first layer in the model instead.\n",
            "  super().__init__(activity_regularizer=activity_regularizer, **kwargs)\n"
          ]
        }
      ]
    },
    {
      "cell_type": "code",
      "source": [
        "# Split data into training and validation sets (no augmentation)\n",
        "x_train_simple, x_val_simple, y_train_simple, y_val_simple = train_test_split(\n",
        "    train_images, train_labels, test_size=0.1\n",
        ")\n",
        "\n",
        "# Train the model directly on the unaugmented data\n",
        "history = cnn_model.fit(\n",
        "    x_train_simple,\n",
        "    y_train_simple,\n",
        "    epochs= 7,\n",
        "    batch_size= 64,\n",
        "    validation_data=(x_val_simple, y_val_simple)\n",
        ")\n"
      ],
      "metadata": {
        "colab": {
          "base_uri": "https://localhost:8080/"
        },
        "id": "uLvbAlTmaAJR",
        "outputId": "31952b41-97f3-4ba0-ad0b-0b80016a69f3"
      },
      "execution_count": null,
      "outputs": [
        {
          "output_type": "stream",
          "name": "stdout",
          "text": [
            "Epoch 1/7\n",
            "\u001b[1m844/844\u001b[0m \u001b[32m━━━━━━━━━━━━━━━━━━━━\u001b[0m\u001b[37m\u001b[0m \u001b[1m14s\u001b[0m 9ms/step - accuracy: 0.7995 - loss: 0.6067 - val_accuracy: 0.9800 - val_loss: 0.0697\n",
            "Epoch 2/7\n",
            "\u001b[1m844/844\u001b[0m \u001b[32m━━━━━━━━━━━━━━━━━━━━\u001b[0m\u001b[37m\u001b[0m \u001b[1m3s\u001b[0m 4ms/step - accuracy: 0.9650 - loss: 0.1122 - val_accuracy: 0.9852 - val_loss: 0.0478\n",
            "Epoch 3/7\n",
            "\u001b[1m844/844\u001b[0m \u001b[32m━━━━━━━━━━━━━━━━━━━━\u001b[0m\u001b[37m\u001b[0m \u001b[1m5s\u001b[0m 4ms/step - accuracy: 0.9744 - loss: 0.0835 - val_accuracy: 0.9865 - val_loss: 0.0424\n",
            "Epoch 4/7\n",
            "\u001b[1m844/844\u001b[0m \u001b[32m━━━━━━━━━━━━━━━━━━━━\u001b[0m\u001b[37m\u001b[0m \u001b[1m4s\u001b[0m 4ms/step - accuracy: 0.9786 - loss: 0.0687 - val_accuracy: 0.9868 - val_loss: 0.0420\n",
            "Epoch 5/7\n",
            "\u001b[1m844/844\u001b[0m \u001b[32m━━━━━━━━━━━━━━━━━━━━\u001b[0m\u001b[37m\u001b[0m \u001b[1m3s\u001b[0m 4ms/step - accuracy: 0.9824 - loss: 0.0575 - val_accuracy: 0.9888 - val_loss: 0.0352\n",
            "Epoch 6/7\n",
            "\u001b[1m844/844\u001b[0m \u001b[32m━━━━━━━━━━━━━━━━━━━━\u001b[0m\u001b[37m\u001b[0m \u001b[1m5s\u001b[0m 4ms/step - accuracy: 0.9840 - loss: 0.0529 - val_accuracy: 0.9892 - val_loss: 0.0333\n",
            "Epoch 7/7\n",
            "\u001b[1m844/844\u001b[0m \u001b[32m━━━━━━━━━━━━━━━━━━━━\u001b[0m\u001b[37m\u001b[0m \u001b[1m4s\u001b[0m 4ms/step - accuracy: 0.9842 - loss: 0.0524 - val_accuracy: 0.9905 - val_loss: 0.0310\n"
          ]
        }
      ]
    },
    {
      "cell_type": "code",
      "source": [
        "loss, acc = cnn_model.evaluate(test_images, test_labels)"
      ],
      "metadata": {
        "colab": {
          "base_uri": "https://localhost:8080/"
        },
        "id": "LYbYMNKybYE3",
        "outputId": "ba2356fa-0feb-47cf-d4a3-a08007635897"
      },
      "execution_count": null,
      "outputs": [
        {
          "output_type": "stream",
          "name": "stdout",
          "text": [
            "\u001b[1m313/313\u001b[0m \u001b[32m━━━━━━━━━━━━━━━━━━━━\u001b[0m\u001b[37m\u001b[0m \u001b[1m2s\u001b[0m 4ms/step - accuracy: 0.9885 - loss: 0.0310\n"
          ]
        }
      ]
    },
    {
      "cell_type": "code",
      "source": [
        "acc"
      ],
      "metadata": {
        "colab": {
          "base_uri": "https://localhost:8080/"
        },
        "id": "jS1FV3lCb7E8",
        "outputId": "819a7ff6-671c-4c74-bcb6-de0ee5953004"
      },
      "execution_count": null,
      "outputs": [
        {
          "output_type": "execute_result",
          "data": {
            "text/plain": [
              "0.991599977016449"
            ]
          },
          "metadata": {},
          "execution_count": 7
        }
      ]
    },
    {
      "cell_type": "markdown",
      "source": [
        "The first step in this code requires loading the necessary libraries, including TensorFlow, Keras, and MNIST dataset and any required utility functions. The code obtains the MNIST dataset, changes image shapes to be in line with the formatting to be expected of the CNN and normalizes the pixel intensities to be within 0 and 1. Float 32 type is used to convert data to improve overall training efficiency.\n",
        "\n",
        "A Convolutional Neural Network (CNN) model is developed, with two convolutional layers, and a max pooling and dropout layer appended thereon to avoid overfitting. Flattened the data the model is made up of two dense layers – while the last layer uses softmax activation to classify the digits into one of ten classes.\n",
        "\n",
        "The accuracy of the compiled model is tested with categorical cross-entropy loss, with the Adam optimizer. The dataset is split into a training and validation subset, and the model fitted in 7 epochs without data augmentation. Training continues along the fit method with validation data constantly being monitored to measure when each epoch is complete and how far the process has progressed. On account of this fact, the model is trained using the MNIST dataset with validation and only original image data is used for training."
      ],
      "metadata": {
        "id": "p7ckOpWffEqv"
      }
    },
    {
      "cell_type": "markdown",
      "source": [
        "# Test"
      ],
      "metadata": {
        "id": "7LQZt7fpd5gD"
      }
    },
    {
      "cell_type": "code",
      "source": [
        "import numpy as np\n",
        "import matplotlib.pyplot as plt\n",
        "\n",
        "# Select a random image from the test dataset\n",
        "image_index = np.random.randint(0, len(test_images))\n",
        "selected_image = test_images[image_index]\n",
        "selected_label = test_labels[image_index]\n",
        "\n",
        "# Reshape the image for the model (already in correct shape, just need normalization)\n",
        "image = selected_image.reshape(1, 28, 28, 1).astype(\"float32\") / 255.0\n",
        "\n",
        "# Predict using the trained CNN model\n",
        "prediction = cnn_model.predict(image)\n",
        "\n",
        "# Get the predicted class (digit)\n",
        "predicted_class = np.argmax(prediction)\n",
        "\n",
        "# Display the image and the prediction\n",
        "plt.imshow(selected_image.squeeze(), cmap='gray')\n",
        "plt.title(f\"Predicted: {predicted_class}, Actual: {np.argmax(selected_label)}\")\n",
        "plt.show()\n"
      ],
      "metadata": {
        "colab": {
          "base_uri": "https://localhost:8080/",
          "height": 469
        },
        "id": "P-QscqAzd5Om",
        "outputId": "77f3021a-8440-45f7-b202-575795da9bda"
      },
      "execution_count": null,
      "outputs": [
        {
          "output_type": "stream",
          "name": "stdout",
          "text": [
            "\u001b[1m1/1\u001b[0m \u001b[32m━━━━━━━━━━━━━━━━━━━━\u001b[0m\u001b[37m\u001b[0m \u001b[1m0s\u001b[0m 29ms/step\n"
          ]
        },
        {
          "output_type": "display_data",
          "data": {
            "text/plain": [
              "<Figure size 640x480 with 1 Axes>"
            ],
            "image/png": "[encoded data removed]"
          },
          "metadata": {}
        }
      ]
    },
    {
      "cell_type": "markdown",
      "source": [
        "Perfectly Works"
      ],
      "metadata": {
        "id": "tXhN5lSJfWwI"
      }
    }
  ]
}